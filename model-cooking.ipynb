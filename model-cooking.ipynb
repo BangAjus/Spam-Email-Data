{
 "cells": [
  {
   "cell_type": "code",
   "execution_count": 1,
   "id": "02b65422",
   "metadata": {
    "_cell_guid": "b1076dfc-b9ad-4769-8c92-a6c4dae69d19",
    "_uuid": "8f2839f25d086af736a60e9eeb907d3b93b6e0e5",
    "execution": {
     "iopub.execute_input": "2024-02-22T08:00:53.084980Z",
     "iopub.status.busy": "2024-02-22T08:00:53.084234Z",
     "iopub.status.idle": "2024-02-22T08:00:54.138351Z",
     "shell.execute_reply": "2024-02-22T08:00:54.136723Z"
    },
    "papermill": {
     "duration": 1.069247,
     "end_time": "2024-02-22T08:00:54.142123",
     "exception": false,
     "start_time": "2024-02-22T08:00:53.072876",
     "status": "completed"
    },
    "tags": []
   },
   "outputs": [
    {
     "name": "stdout",
     "output_type": "stream",
     "text": [
      "/kaggle/input/spam-emails/spam.csv\n"
     ]
    }
   ],
   "source": [
    "# This Python 3 environment comes with many helpful analytics libraries installed\n",
    "# It is defined by the kaggle/python Docker image: https://github.com/kaggle/docker-python\n",
    "# For example, here's several helpful packages to load\n",
    "\n",
    "import numpy as np # linear algebra\n",
    "import pandas as pd # data processing, CSV file I/O (e.g. pd.read_csv)\n",
    "\n",
    "# Input data files are available in the read-only \"../input/\" directory\n",
    "# For example, running this (by clicking run or pressing Shift+Enter) will list all files under the input directory\n",
    "\n",
    "import os\n",
    "for dirname, _, filenames in os.walk('/kaggle/input'):\n",
    "    for filename in filenames:\n",
    "        if '.csv' in filename:\n",
    "            print(os.path.join(dirname, filename))\n",
    "\n",
    "# You can write up to 20GB to the current directory (/kaggle/working/) that gets preserved as output when you create a version using \"Save & Run All\" \n",
    "# You can also write temporary files to /kaggle/temp/, but they won't be saved outside of the current session"
   ]
  },
  {
   "cell_type": "markdown",
   "id": "15e25c52",
   "metadata": {
    "papermill": {
     "duration": 0.007278,
     "end_time": "2024-02-22T08:00:54.157964",
     "exception": false,
     "start_time": "2024-02-22T08:00:54.150686",
     "status": "completed"
    },
    "tags": []
   },
   "source": [
    "# Open csv file"
   ]
  },
  {
   "cell_type": "code",
   "execution_count": 2,
   "id": "4c4cc774",
   "metadata": {
    "execution": {
     "iopub.execute_input": "2024-02-22T08:00:54.175940Z",
     "iopub.status.busy": "2024-02-22T08:00:54.175281Z",
     "iopub.status.idle": "2024-02-22T08:00:54.248210Z",
     "shell.execute_reply": "2024-02-22T08:00:54.246237Z"
    },
    "papermill": {
     "duration": 0.084671,
     "end_time": "2024-02-22T08:00:54.250588",
     "exception": false,
     "start_time": "2024-02-22T08:00:54.165917",
     "status": "completed"
    },
    "tags": []
   },
   "outputs": [
    {
     "name": "stdout",
     "output_type": "stream",
     "text": [
      "<class 'pandas.core.frame.DataFrame'>\n",
      "RangeIndex: 5572 entries, 0 to 5571\n",
      "Data columns (total 2 columns):\n",
      " #   Column    Non-Null Count  Dtype \n",
      "---  ------    --------------  ----- \n",
      " 0   Category  5572 non-null   object\n",
      " 1   Message   5572 non-null   object\n",
      "dtypes: object(2)\n",
      "memory usage: 87.2+ KB\n"
     ]
    }
   ],
   "source": [
    "df = pd.read_csv('/kaggle/input/spam-emails/spam.csv')\n",
    "df.info()"
   ]
  },
  {
   "cell_type": "markdown",
   "id": "5fd642bb",
   "metadata": {
    "papermill": {
     "duration": 0.007873,
     "end_time": "2024-02-22T08:00:54.266249",
     "exception": false,
     "start_time": "2024-02-22T08:00:54.258376",
     "status": "completed"
    },
    "tags": []
   },
   "source": [
    "# File preview"
   ]
  },
  {
   "cell_type": "code",
   "execution_count": 3,
   "id": "fa68d3eb",
   "metadata": {
    "execution": {
     "iopub.execute_input": "2024-02-22T08:00:54.284827Z",
     "iopub.status.busy": "2024-02-22T08:00:54.283540Z",
     "iopub.status.idle": "2024-02-22T08:00:54.301547Z",
     "shell.execute_reply": "2024-02-22T08:00:54.299908Z"
    },
    "papermill": {
     "duration": 0.029805,
     "end_time": "2024-02-22T08:00:54.304096",
     "exception": false,
     "start_time": "2024-02-22T08:00:54.274291",
     "status": "completed"
    },
    "tags": []
   },
   "outputs": [
    {
     "data": {
      "text/html": [
       "<div>\n",
       "<style scoped>\n",
       "    .dataframe tbody tr th:only-of-type {\n",
       "        vertical-align: middle;\n",
       "    }\n",
       "\n",
       "    .dataframe tbody tr th {\n",
       "        vertical-align: top;\n",
       "    }\n",
       "\n",
       "    .dataframe thead th {\n",
       "        text-align: right;\n",
       "    }\n",
       "</style>\n",
       "<table border=\"1\" class=\"dataframe\">\n",
       "  <thead>\n",
       "    <tr style=\"text-align: right;\">\n",
       "      <th></th>\n",
       "      <th>Category</th>\n",
       "      <th>Message</th>\n",
       "    </tr>\n",
       "  </thead>\n",
       "  <tbody>\n",
       "    <tr>\n",
       "      <th>0</th>\n",
       "      <td>ham</td>\n",
       "      <td>Go until jurong point, crazy.. Available only ...</td>\n",
       "    </tr>\n",
       "    <tr>\n",
       "      <th>1</th>\n",
       "      <td>ham</td>\n",
       "      <td>Ok lar... Joking wif u oni...</td>\n",
       "    </tr>\n",
       "    <tr>\n",
       "      <th>2</th>\n",
       "      <td>spam</td>\n",
       "      <td>Free entry in 2 a wkly comp to win FA Cup fina...</td>\n",
       "    </tr>\n",
       "    <tr>\n",
       "      <th>3</th>\n",
       "      <td>ham</td>\n",
       "      <td>U dun say so early hor... U c already then say...</td>\n",
       "    </tr>\n",
       "    <tr>\n",
       "      <th>4</th>\n",
       "      <td>ham</td>\n",
       "      <td>Nah I don't think he goes to usf, he lives aro...</td>\n",
       "    </tr>\n",
       "  </tbody>\n",
       "</table>\n",
       "</div>"
      ],
      "text/plain": [
       "  Category                                            Message\n",
       "0      ham  Go until jurong point, crazy.. Available only ...\n",
       "1      ham                      Ok lar... Joking wif u oni...\n",
       "2     spam  Free entry in 2 a wkly comp to win FA Cup fina...\n",
       "3      ham  U dun say so early hor... U c already then say...\n",
       "4      ham  Nah I don't think he goes to usf, he lives aro..."
      ]
     },
     "execution_count": 3,
     "metadata": {},
     "output_type": "execute_result"
    }
   ],
   "source": [
    "df.head()"
   ]
  },
  {
   "cell_type": "markdown",
   "id": "09c0fa45",
   "metadata": {
    "papermill": {
     "duration": 0.007817,
     "end_time": "2024-02-22T08:00:54.320429",
     "exception": false,
     "start_time": "2024-02-22T08:00:54.312612",
     "status": "completed"
    },
    "tags": []
   },
   "source": [
    "# Import libraries for text preprocessing"
   ]
  },
  {
   "cell_type": "code",
   "execution_count": 4,
   "id": "a718f1c3",
   "metadata": {
    "execution": {
     "iopub.execute_input": "2024-02-22T08:00:54.338861Z",
     "iopub.status.busy": "2024-02-22T08:00:54.338032Z",
     "iopub.status.idle": "2024-02-22T08:01:03.140273Z",
     "shell.execute_reply": "2024-02-22T08:01:03.138373Z"
    },
    "papermill": {
     "duration": 8.815056,
     "end_time": "2024-02-22T08:01:03.143422",
     "exception": false,
     "start_time": "2024-02-22T08:00:54.328366",
     "status": "completed"
    },
    "tags": []
   },
   "outputs": [],
   "source": [
    "import re\n",
    "from nltk.corpus import stopwords\n",
    "from nltk.stem import PorterStemmer\n",
    "import spacy "
   ]
  },
  {
   "cell_type": "markdown",
   "id": "169efe1e",
   "metadata": {
    "papermill": {
     "duration": 0.008946,
     "end_time": "2024-02-22T08:01:03.162283",
     "exception": false,
     "start_time": "2024-02-22T08:01:03.153337",
     "status": "completed"
    },
    "tags": []
   },
   "source": [
    "# Preprocess the text"
   ]
  },
  {
   "cell_type": "code",
   "execution_count": 5,
   "id": "a420f89d",
   "metadata": {
    "execution": {
     "iopub.execute_input": "2024-02-22T08:01:03.180822Z",
     "iopub.status.busy": "2024-02-22T08:01:03.180121Z",
     "iopub.status.idle": "2024-02-22T08:01:03.191318Z",
     "shell.execute_reply": "2024-02-22T08:01:03.190115Z"
    },
    "papermill": {
     "duration": 0.023418,
     "end_time": "2024-02-22T08:01:03.193811",
     "exception": false,
     "start_time": "2024-02-22T08:01:03.170393",
     "status": "completed"
    },
    "tags": []
   },
   "outputs": [],
   "source": [
    "def cleaning_df(df, series_name):\n",
    "\n",
    "    # Cleaning using regex\n",
    "    df[series_name] = df[series_name].apply(lambda x: x.lower())\n",
    "    df[series_name] = df[series_name].apply(lambda x: re.findall(r'[a-z]+', x))\n",
    "    \n",
    "    # Removing stopwords\n",
    "    stop_word = stopwords.words('english')\n",
    "    df[series_name] = df[series_name].apply(lambda x: [i for i in x if i not in stop_word])\n",
    "    \n",
    "    # Transforming using lemmatizer\n",
    "    nlp = spacy.load('en_core_web_sm') \n",
    "    df[series_name] = df[series_name].apply(lambda x: nlp(\" \".join(x)))\n",
    "    df[series_name] = df[series_name].apply(lambda x: [i.lemma_ for i in x])\n",
    "    \n",
    "    # Transforming using stemmer\n",
    "    stemmer = PorterStemmer()\n",
    "    df[series_name] = df[series_name].apply(lambda x: [stemmer.stem(i) for i in x])\n",
    "    \n",
    "    # Finally, merging all tokens\n",
    "    df[series_name] = df[series_name].apply(lambda x: \" \".join(x))"
   ]
  },
  {
   "cell_type": "code",
   "execution_count": 6,
   "id": "9e5ab83c",
   "metadata": {
    "execution": {
     "iopub.execute_input": "2024-02-22T08:01:03.212660Z",
     "iopub.status.busy": "2024-02-22T08:01:03.212061Z",
     "iopub.status.idle": "2024-02-22T08:01:47.737923Z",
     "shell.execute_reply": "2024-02-22T08:01:47.736510Z"
    },
    "papermill": {
     "duration": 44.538733,
     "end_time": "2024-02-22T08:01:47.741010",
     "exception": false,
     "start_time": "2024-02-22T08:01:03.202277",
     "status": "completed"
    },
    "tags": []
   },
   "outputs": [],
   "source": [
    "cleaning_df(df, 'Message')"
   ]
  },
  {
   "cell_type": "markdown",
   "id": "ae84cb72",
   "metadata": {
    "papermill": {
     "duration": 0.00742,
     "end_time": "2024-02-22T08:01:47.756680",
     "exception": false,
     "start_time": "2024-02-22T08:01:47.749260",
     "status": "completed"
    },
    "tags": []
   },
   "source": [
    "# Text preview after preprocessing"
   ]
  },
  {
   "cell_type": "code",
   "execution_count": 7,
   "id": "94318c8f",
   "metadata": {
    "execution": {
     "iopub.execute_input": "2024-02-22T08:01:47.774771Z",
     "iopub.status.busy": "2024-02-22T08:01:47.774273Z",
     "iopub.status.idle": "2024-02-22T08:01:47.785151Z",
     "shell.execute_reply": "2024-02-22T08:01:47.783668Z"
    },
    "papermill": {
     "duration": 0.023267,
     "end_time": "2024-02-22T08:01:47.787722",
     "exception": false,
     "start_time": "2024-02-22T08:01:47.764455",
     "status": "completed"
    },
    "tags": []
   },
   "outputs": [
    {
     "data": {
      "text/plain": [
       "0       go jurong point crazi avail bugi n great world...\n",
       "1                                   ok lar joke wif u oni\n",
       "2       free entri wkli comp win fa cup final tkt st m...\n",
       "3                     u dun say earli hor u c alreadi say\n",
       "4                     nah think go usf live around though\n",
       "                              ...                        \n",
       "5567    nd time tri contact u u pound prize claim easi...\n",
       "5568                                b go esplanad fr home\n",
       "5569                                    piti mood suggest\n",
       "5570    guy bitch act like interest buy someth els nex...\n",
       "5571                                       rofl true name\n",
       "Name: Message, Length: 5572, dtype: object"
      ]
     },
     "execution_count": 7,
     "metadata": {},
     "output_type": "execute_result"
    }
   ],
   "source": [
    "df['Message']"
   ]
  },
  {
   "cell_type": "markdown",
   "id": "226b732f",
   "metadata": {
    "papermill": {
     "duration": 0.008417,
     "end_time": "2024-02-22T08:01:47.804117",
     "exception": false,
     "start_time": "2024-02-22T08:01:47.795700",
     "status": "completed"
    },
    "tags": []
   },
   "source": [
    "# Import libraries for tokenizing and sequencing"
   ]
  },
  {
   "cell_type": "code",
   "execution_count": 8,
   "id": "3377e719",
   "metadata": {
    "execution": {
     "iopub.execute_input": "2024-02-22T08:01:47.822935Z",
     "iopub.status.busy": "2024-02-22T08:01:47.822364Z",
     "iopub.status.idle": "2024-02-22T08:02:03.440300Z",
     "shell.execute_reply": "2024-02-22T08:02:03.438635Z"
    },
    "papermill": {
     "duration": 15.631736,
     "end_time": "2024-02-22T08:02:03.444098",
     "exception": false,
     "start_time": "2024-02-22T08:01:47.812362",
     "status": "completed"
    },
    "tags": []
   },
   "outputs": [
    {
     "name": "stderr",
     "output_type": "stream",
     "text": [
      "2024-02-22 08:01:50.251434: E external/local_xla/xla/stream_executor/cuda/cuda_dnn.cc:9261] Unable to register cuDNN factory: Attempting to register factory for plugin cuDNN when one has already been registered\n",
      "2024-02-22 08:01:50.251686: E external/local_xla/xla/stream_executor/cuda/cuda_fft.cc:607] Unable to register cuFFT factory: Attempting to register factory for plugin cuFFT when one has already been registered\n",
      "2024-02-22 08:01:50.436877: E external/local_xla/xla/stream_executor/cuda/cuda_blas.cc:1515] Unable to register cuBLAS factory: Attempting to register factory for plugin cuBLAS when one has already been registered\n"
     ]
    }
   ],
   "source": [
    "from tensorflow.keras.preprocessing.text import Tokenizer\n",
    "from tensorflow.keras.preprocessing.sequence import pad_sequences"
   ]
  },
  {
   "cell_type": "markdown",
   "id": "8cf3348e",
   "metadata": {
    "papermill": {
     "duration": 0.008081,
     "end_time": "2024-02-22T08:02:03.461071",
     "exception": false,
     "start_time": "2024-02-22T08:02:03.452990",
     "status": "completed"
    },
    "tags": []
   },
   "source": [
    "# Tokenize and sequence the text"
   ]
  },
  {
   "cell_type": "code",
   "execution_count": 9,
   "id": "3e92642b",
   "metadata": {
    "execution": {
     "iopub.execute_input": "2024-02-22T08:02:03.479898Z",
     "iopub.status.busy": "2024-02-22T08:02:03.479040Z",
     "iopub.status.idle": "2024-02-22T08:02:03.486469Z",
     "shell.execute_reply": "2024-02-22T08:02:03.484988Z"
    },
    "papermill": {
     "duration": 0.019999,
     "end_time": "2024-02-22T08:02:03.489217",
     "exception": false,
     "start_time": "2024-02-22T08:02:03.469218",
     "status": "completed"
    },
    "tags": []
   },
   "outputs": [],
   "source": [
    "def tf_processing(corpus):\n",
    "\n",
    "    tokenizer = Tokenizer()\n",
    "    tokenizer.fit_on_texts(corpus)\n",
    "    sequences = tokenizer.texts_to_sequences(corpus)\n",
    "    \n",
    "    total_words = len(tokenizer.word_index) + 1\n",
    "    maxlen = max([len(x) for x in sequences])\n",
    "    sequences = pad_sequences(sequences, maxlen=maxlen)\n",
    "\n",
    "    return sequences, total_words, maxlen"
   ]
  },
  {
   "cell_type": "markdown",
   "id": "767385f1",
   "metadata": {
    "papermill": {
     "duration": 0.008062,
     "end_time": "2024-02-22T08:02:03.505434",
     "exception": false,
     "start_time": "2024-02-22T08:02:03.497372",
     "status": "completed"
    },
    "tags": []
   },
   "source": [
    "# Make the feature and label data"
   ]
  },
  {
   "cell_type": "code",
   "execution_count": 10,
   "id": "55c67167",
   "metadata": {
    "execution": {
     "iopub.execute_input": "2024-02-22T08:02:03.523972Z",
     "iopub.status.busy": "2024-02-22T08:02:03.523496Z",
     "iopub.status.idle": "2024-02-22T08:02:03.720831Z",
     "shell.execute_reply": "2024-02-22T08:02:03.719313Z"
    },
    "papermill": {
     "duration": 0.210027,
     "end_time": "2024-02-22T08:02:03.723747",
     "exception": false,
     "start_time": "2024-02-22T08:02:03.513720",
     "status": "completed"
    },
    "tags": []
   },
   "outputs": [
    {
     "name": "stderr",
     "output_type": "stream",
     "text": [
      "/tmp/ipykernel_19/3433632891.py:2: FutureWarning: Downcasting behavior in `replace` is deprecated and will be removed in a future version. To retain the old behavior, explicitly call `result.infer_objects(copy=False)`. To opt-in to the future behavior, set `pd.set_option('future.no_silent_downcasting', True)`\n",
      "  y = df['Category'].replace({'ham':0, 'spam':1})\n"
     ]
    }
   ],
   "source": [
    "x, total_words, maxlen = tf_processing(df['Message'])\n",
    "y = df['Category'].replace({'ham':0, 'spam':1})"
   ]
  },
  {
   "cell_type": "markdown",
   "id": "d9b19900",
   "metadata": {
    "papermill": {
     "duration": 0.008021,
     "end_time": "2024-02-22T08:02:03.740194",
     "exception": false,
     "start_time": "2024-02-22T08:02:03.732173",
     "status": "completed"
    },
    "tags": []
   },
   "source": [
    "# Import lib for train test split"
   ]
  },
  {
   "cell_type": "code",
   "execution_count": 11,
   "id": "93a8b517",
   "metadata": {
    "execution": {
     "iopub.execute_input": "2024-02-22T08:02:03.759379Z",
     "iopub.status.busy": "2024-02-22T08:02:03.758902Z",
     "iopub.status.idle": "2024-02-22T08:02:03.765244Z",
     "shell.execute_reply": "2024-02-22T08:02:03.763589Z"
    },
    "papermill": {
     "duration": 0.018683,
     "end_time": "2024-02-22T08:02:03.767773",
     "exception": false,
     "start_time": "2024-02-22T08:02:03.749090",
     "status": "completed"
    },
    "tags": []
   },
   "outputs": [],
   "source": [
    "from sklearn.model_selection import train_test_split"
   ]
  },
  {
   "cell_type": "markdown",
   "id": "e30b97ec",
   "metadata": {
    "papermill": {
     "duration": 0.008087,
     "end_time": "2024-02-22T08:02:03.784867",
     "exception": false,
     "start_time": "2024-02-22T08:02:03.776780",
     "status": "completed"
    },
    "tags": []
   },
   "source": [
    "# Split the data into train test split"
   ]
  },
  {
   "cell_type": "code",
   "execution_count": 12,
   "id": "31950902",
   "metadata": {
    "execution": {
     "iopub.execute_input": "2024-02-22T08:02:03.804276Z",
     "iopub.status.busy": "2024-02-22T08:02:03.803495Z",
     "iopub.status.idle": "2024-02-22T08:02:03.811150Z",
     "shell.execute_reply": "2024-02-22T08:02:03.810273Z"
    },
    "papermill": {
     "duration": 0.020207,
     "end_time": "2024-02-22T08:02:03.813594",
     "exception": false,
     "start_time": "2024-02-22T08:02:03.793387",
     "status": "completed"
    },
    "tags": []
   },
   "outputs": [],
   "source": [
    "x_train, x_test, y_train, y_test = train_test_split(x, y,\n",
    "                                                    test_size=0.25)"
   ]
  },
  {
   "cell_type": "markdown",
   "id": "877a6490",
   "metadata": {
    "papermill": {
     "duration": 0.008079,
     "end_time": "2024-02-22T08:02:03.830165",
     "exception": false,
     "start_time": "2024-02-22T08:02:03.822086",
     "status": "completed"
    },
    "tags": []
   },
   "source": [
    "# Import libraries for making model"
   ]
  },
  {
   "cell_type": "code",
   "execution_count": 13,
   "id": "d66ac78d",
   "metadata": {
    "execution": {
     "iopub.execute_input": "2024-02-22T08:02:03.849165Z",
     "iopub.status.busy": "2024-02-22T08:02:03.848495Z",
     "iopub.status.idle": "2024-02-22T08:02:03.852955Z",
     "shell.execute_reply": "2024-02-22T08:02:03.851819Z"
    },
    "papermill": {
     "duration": 0.016655,
     "end_time": "2024-02-22T08:02:03.855318",
     "exception": false,
     "start_time": "2024-02-22T08:02:03.838663",
     "status": "completed"
    },
    "tags": []
   },
   "outputs": [],
   "source": [
    "from tensorflow.keras import layers, Model, Input, optimizers, callbacks"
   ]
  },
  {
   "cell_type": "markdown",
   "id": "06bd5342",
   "metadata": {
    "papermill": {
     "duration": 0.008205,
     "end_time": "2024-02-22T08:02:03.872092",
     "exception": false,
     "start_time": "2024-02-22T08:02:03.863887",
     "status": "completed"
    },
    "tags": []
   },
   "source": [
    "# Make the model"
   ]
  },
  {
   "cell_type": "code",
   "execution_count": 14,
   "id": "36c7e97e",
   "metadata": {
    "execution": {
     "iopub.execute_input": "2024-02-22T08:02:03.891719Z",
     "iopub.status.busy": "2024-02-22T08:02:03.891018Z",
     "iopub.status.idle": "2024-02-22T08:02:05.074124Z",
     "shell.execute_reply": "2024-02-22T08:02:05.072992Z"
    },
    "papermill": {
     "duration": 1.195796,
     "end_time": "2024-02-22T08:02:05.076852",
     "exception": false,
     "start_time": "2024-02-22T08:02:03.881056",
     "status": "completed"
    },
    "tags": []
   },
   "outputs": [],
   "source": [
    "inputs = Input(shape=(maxlen,))\n",
    "embedding = layers.Embedding(total_words, 100, input_length=maxlen)(inputs)\n",
    "x = layers.Bidirectional(layers.LSTM(128))(embedding)\n",
    "x = layers.Dense(256, activation='relu')(x)\n",
    "x = layers.Dense(1, activation='sigmoid')(x)\n",
    "\n",
    "model = Model(inputs=inputs, outputs=x)\n",
    "model.compile(loss='binary_crossentropy',\n",
    "              optimizer = optimizers.Adam(0.0001),\n",
    "              metrics=['accuracy'])"
   ]
  },
  {
   "cell_type": "markdown",
   "id": "02b33b65",
   "metadata": {
    "papermill": {
     "duration": 0.008902,
     "end_time": "2024-02-22T08:02:05.096482",
     "exception": false,
     "start_time": "2024-02-22T08:02:05.087580",
     "status": "completed"
    },
    "tags": []
   },
   "source": [
    "# Make callback"
   ]
  },
  {
   "cell_type": "code",
   "execution_count": 15,
   "id": "ead89fb5",
   "metadata": {
    "execution": {
     "iopub.execute_input": "2024-02-22T08:02:05.115640Z",
     "iopub.status.busy": "2024-02-22T08:02:05.114464Z",
     "iopub.status.idle": "2024-02-22T08:02:05.120204Z",
     "shell.execute_reply": "2024-02-22T08:02:05.119102Z"
    },
    "papermill": {
     "duration": 0.018383,
     "end_time": "2024-02-22T08:02:05.123104",
     "exception": false,
     "start_time": "2024-02-22T08:02:05.104721",
     "status": "completed"
    },
    "tags": []
   },
   "outputs": [],
   "source": [
    "class myCallback(callbacks.Callback):\n",
    "    \n",
    "    def on_epoch_end(self, epoch, logs={}):\n",
    "        if logs.get('accuracy') > 0.99:\n",
    "            self.model.stop_training =True"
   ]
  },
  {
   "cell_type": "markdown",
   "id": "cc106868",
   "metadata": {
    "papermill": {
     "duration": 0.008121,
     "end_time": "2024-02-22T08:02:05.140474",
     "exception": false,
     "start_time": "2024-02-22T08:02:05.132353",
     "status": "completed"
    },
    "tags": []
   },
   "source": [
    "# Train the model with callbacks and test data"
   ]
  },
  {
   "cell_type": "code",
   "execution_count": 16,
   "id": "e8ff9d73",
   "metadata": {
    "execution": {
     "iopub.execute_input": "2024-02-22T08:02:05.159851Z",
     "iopub.status.busy": "2024-02-22T08:02:05.158547Z",
     "iopub.status.idle": "2024-02-22T08:03:58.426295Z",
     "shell.execute_reply": "2024-02-22T08:03:58.422426Z"
    },
    "papermill": {
     "duration": 113.279962,
     "end_time": "2024-02-22T08:03:58.428964",
     "exception": false,
     "start_time": "2024-02-22T08:02:05.149002",
     "status": "completed"
    },
    "tags": []
   },
   "outputs": [
    {
     "name": "stdout",
     "output_type": "stream",
     "text": [
      "Epoch 1/100\n",
      "131/131 [==============================] - 27s 171ms/step - loss: 0.4201 - accuracy: 0.8653 - val_loss: 0.2885 - val_accuracy: 0.8679\n",
      "Epoch 2/100\n",
      "131/131 [==============================] - 22s 164ms/step - loss: 0.2031 - accuracy: 0.9239 - val_loss: 0.1373 - val_accuracy: 0.9777\n",
      "Epoch 3/100\n",
      "131/131 [==============================] - 21s 164ms/step - loss: 0.0799 - accuracy: 0.9823 - val_loss: 0.0649 - val_accuracy: 0.9828\n",
      "Epoch 4/100\n",
      "131/131 [==============================] - 21s 164ms/step - loss: 0.0412 - accuracy: 0.9890 - val_loss: 0.0515 - val_accuracy: 0.9821\n",
      "Epoch 5/100\n",
      "131/131 [==============================] - 22s 167ms/step - loss: 0.0271 - accuracy: 0.9928 - val_loss: 0.0530 - val_accuracy: 0.9799\n"
     ]
    }
   ],
   "source": [
    "callback = myCallback()\n",
    "history = model.fit(x_train, y_train,\n",
    "                    epochs=100,\n",
    "                    validation_data=(x_test, y_test),\n",
    "                    callbacks=callback)"
   ]
  },
  {
   "cell_type": "markdown",
   "id": "10bbb5a3",
   "metadata": {
    "papermill": {
     "duration": 0.052647,
     "end_time": "2024-02-22T08:03:58.535134",
     "exception": false,
     "start_time": "2024-02-22T08:03:58.482487",
     "status": "completed"
    },
    "tags": []
   },
   "source": [
    "# Import lib for plotting"
   ]
  },
  {
   "cell_type": "code",
   "execution_count": 17,
   "id": "d9d1f63d",
   "metadata": {
    "execution": {
     "iopub.execute_input": "2024-02-22T08:03:58.730321Z",
     "iopub.status.busy": "2024-02-22T08:03:58.729886Z",
     "iopub.status.idle": "2024-02-22T08:03:58.735045Z",
     "shell.execute_reply": "2024-02-22T08:03:58.733877Z"
    },
    "papermill": {
     "duration": 0.150896,
     "end_time": "2024-02-22T08:03:58.737450",
     "exception": false,
     "start_time": "2024-02-22T08:03:58.586554",
     "status": "completed"
    },
    "tags": []
   },
   "outputs": [],
   "source": [
    "import matplotlib.pyplot as plt"
   ]
  },
  {
   "cell_type": "markdown",
   "id": "07031322",
   "metadata": {
    "papermill": {
     "duration": 0.051235,
     "end_time": "2024-02-22T08:03:58.841243",
     "exception": false,
     "start_time": "2024-02-22T08:03:58.790008",
     "status": "completed"
    },
    "tags": []
   },
   "source": [
    "# Plot the training logs"
   ]
  },
  {
   "cell_type": "code",
   "execution_count": 18,
   "id": "1ff053dd",
   "metadata": {
    "execution": {
     "iopub.execute_input": "2024-02-22T08:03:58.948909Z",
     "iopub.status.busy": "2024-02-22T08:03:58.948228Z",
     "iopub.status.idle": "2024-02-22T08:04:31.775377Z",
     "shell.execute_reply": "2024-02-22T08:04:31.774117Z"
    },
    "papermill": {
     "duration": 32.883351,
     "end_time": "2024-02-22T08:04:31.778075",
     "exception": false,
     "start_time": "2024-02-22T08:03:58.894724",
     "status": "completed"
    },
    "tags": []
   },
   "outputs": [
    {
     "data": {
      "text/plain": [
       "Text(0.5, 1.0, 'loss')"
      ]
     },
     "execution_count": 18,
     "metadata": {},
     "output_type": "execute_result"
    },
    {
     "data": {
      "image/png": "[encoded data removed]",
      "text/plain": [
       "<Figure size 640x480 with 2 Axes>"
      ]
     },
     "metadata": {},
     "output_type": "display_data"
    }
   ],
   "source": [
    "fig, ax = plt.subplots(2)\n",
    "ax[0].plot(history.history['accuracy'])\n",
    "ax[0].plot(history.history['val_accuracy'])\n",
    "ax[0].set_title('accuracy')\n",
    "\n",
    "ax[1].plot(history.history['loss'])\n",
    "ax[1].plot(history.history['val_loss'])\n",
    "ax[1].set_title('loss')"
   ]
  },
  {
   "cell_type": "markdown",
   "id": "dd34d3a6",
   "metadata": {
    "papermill": {
     "duration": 0.054891,
     "end_time": "2024-02-22T08:04:31.885022",
     "exception": false,
     "start_time": "2024-02-22T08:04:31.830131",
     "status": "completed"
    },
    "tags": []
   },
   "source": [
    "# Save the model into .h5 extension"
   ]
  },
  {
   "cell_type": "code",
   "execution_count": 19,
   "id": "c457342b",
   "metadata": {
    "execution": {
     "iopub.execute_input": "2024-02-22T08:04:31.997560Z",
     "iopub.status.busy": "2024-02-22T08:04:31.997066Z",
     "iopub.status.idle": "2024-02-22T08:04:32.071741Z",
     "shell.execute_reply": "2024-02-22T08:04:32.070205Z"
    },
    "papermill": {
     "duration": 0.132782,
     "end_time": "2024-02-22T08:04:32.074489",
     "exception": false,
     "start_time": "2024-02-22T08:04:31.941707",
     "status": "completed"
    },
    "tags": []
   },
   "outputs": [
    {
     "name": "stderr",
     "output_type": "stream",
     "text": [
      "/opt/conda/lib/python3.10/site-packages/keras/src/engine/training.py:3103: UserWarning: You are saving your model as an HDF5 file via `model.save()`. This file format is considered legacy. We recommend using instead the native Keras format, e.g. `model.save('my_model.keras')`.\n",
      "  saving_api.save_model(\n"
     ]
    }
   ],
   "source": [
    "model.save('spam_detector.h5')"
   ]
  },
  {
   "cell_type": "code",
   "execution_count": null,
   "id": "d25a400e",
   "metadata": {
    "papermill": {
     "duration": 0.053472,
     "end_time": "2024-02-22T08:04:32.180064",
     "exception": false,
     "start_time": "2024-02-22T08:04:32.126592",
     "status": "completed"
    },
    "tags": []
   },
   "outputs": [],
   "source": []
  }
 ],
 "metadata": {
  "kaggle": {
   "accelerator": "none",
   "dataSources": [
    {
     "datasetId": 3839058,
     "sourceId": 6651650,
     "sourceType": "datasetVersion"
    }
   ],
   "dockerImageVersionId": 30646,
   "isGpuEnabled": false,
   "isInternetEnabled": true,
   "language": "python",
   "sourceType": "notebook"
  },
  "kernelspec": {
   "display_name": "Python 3",
   "language": "python",
   "name": "python3"
  },
  "language_info": {
   "codemirror_mode": {
    "name": "ipython",
    "version": 3
   },
   "file_extension": ".py",
   "mimetype": "text/x-python",
   "name": "python",
   "nbconvert_exporter": "python",
   "pygments_lexer": "ipython3",
   "version": "3.10.13"
  },
  "papermill": {
   "default_parameters": {},
   "duration": 225.35336,
   "end_time": "2024-02-22T08:04:35.304967",
   "environment_variables": {},
   "exception": null,
   "input_path": "__notebook__.ipynb",
   "output_path": "__notebook__.ipynb",
   "parameters": {},
   "start_time": "2024-02-22T08:00:49.951607",
   "version": "2.5.0"
  }
 },
 "nbformat": 4,
 "nbformat_minor": 5
}
